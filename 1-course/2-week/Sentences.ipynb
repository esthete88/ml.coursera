{
 "cells": [
  {
   "cell_type": "code",
   "execution_count": 1,
   "metadata": {
    "collapsed": true
   },
   "outputs": [],
   "source": [
    "file = open('sentences.txt')"
   ]
  },
  {
   "cell_type": "code",
   "execution_count": 2,
   "metadata": {
    "collapsed": false
   },
   "outputs": [],
   "source": [
    "A = []\n",
    "for line in file:\n",
    "    A.append(line)"
   ]
  },
  {
   "cell_type": "code",
   "execution_count": 3,
   "metadata": {
    "collapsed": false
   },
   "outputs": [
    {
     "name": "stdout",
     "output_type": "stream",
     "text": [
      "['in comparison to dogs, cats have not undergone major changes during the domestication process.\\n', 'as cat simply catenates streams of bytes, it can be also used to concatenate binary files, where it will just concatenate sequence of bytes.\\n', 'a common interactive use of cat for a single file is to output the content of a file to standard output.\\n', 'cats can hear sounds too faint or too high in frequency for human ears, such as those made by mice and other small animals.\\n', 'in one, people deliberately tamed cats in a process of artificial selection, as they were useful predators of vermin.\\n', 'the domesticated cat and its closest wild ancestor are both diploid organisms that possess 38 chromosomes and roughly 20,000 genes.\\n', 'domestic cats are similar in size to the other members of the genus felis, typically weighing between 4 and 5 kg (8.8 and 11.0 lb).\\n', 'however, if the output is piped or redirected, cat is unnecessary.\\n', 'cat with one named file is safer where human error is a concern - one wrong use of the default redirection symbol \">\" instead of \"<\" (often adjacent on keyboards) may permanently delete the file you were just needing to read.\\n', 'in terms of legibility, a sequence of commands starting with cat and connected by pipes has a clear left-to-right flow of information.\\n', 'cat command is one of the basic commands that you learned when you started in the unix / linux world.\\n', 'using cat command, the lines received from stdin can be redirected to a new file using redirection symbols.\\n', 'when you type simply cat command without any arguments, it just receives the stdin content and displays it in the stdout.\\n', 'leopard was released on october 26, 2007 as the successor of tiger (version 10.4), and is available in two editions.\\n', 'according to apple, leopard contains over 300 changes and enhancements over its predecessor, mac os x tiger.\\n', 'as of mid 2010, some apple computers have firmware factory installed which will no longer allow installation of mac os x leopard.\\n', 'since apple moved to using intel processors in their computers, the osx86 community has developed and now also allows mac os x tiger and later releases to be installed on non-apple x86-based computers.\\n', \"os x mountain lion was released on july 25, 2012 for purchase and download through apple's mac app store, as part of a switch to releasing os x versions online and every year.\\n\", 'apple has released a small patch for the three most recent versions of safari running on os x yosemite, mavericks, and mountain lion.\\n', 'the mountain lion release marks the second time apple has offered an incremental upgrade, rather than releasing a new cat entirely.\\n', \"mac os x mountain lion installs in place, so you won't need to create a separate disk or run the installation off an external drive.\\n\", \"the fifth major update to mac os x, leopard, contains such a mountain of features - more than 300 by apple's count.\\n\"]\n"
     ]
    }
   ],
   "source": [
    "Sentences = []\n",
    "for i in A:\n",
    "    j = i.lower()\n",
    "    Sentences.append(j)\n",
    "print(Sentences)"
   ]
  },
  {
   "cell_type": "code",
   "execution_count": 4,
   "metadata": {
    "collapsed": false
   },
   "outputs": [
    {
     "name": "stdout",
     "output_type": "stream",
     "text": [
      "['in', 'comparison', 'to', 'dogs', 'cats', 'have', 'not', 'undergone', 'major', 'changes', 'during', 'the', 'domestication', 'process', 'as', 'cat', 'simply', 'catenates', 'streams', 'of', 'bytes', 'it', 'can', 'be', 'also', 'used', 'concatenate', 'binary', 'files', 'where', 'will', 'just', 'sequence', 'a', 'common', 'interactive', 'use', 'for', 'single', 'file', 'is', 'output', 'content', 'standard', 'hear', 'sounds', 'too', 'faint', 'or', 'high', 'frequency', 'human', 'ears', 'such', 'those', 'made', 'by', 'mice', 'and', 'other', 'small', 'animals', 'one', 'people', 'deliberately', 'tamed', 'artificial', 'selection', 'they', 'were', 'useful', 'predators', 'vermin', 'domesticated', 'its', 'closest', 'wild', 'ancestor', 'are', 'both', 'diploid', 'organisms', 'that', 'possess', 'chromosomes', 'roughly', 'genes', 'domestic', 'similar', 'size', 'members', 'genus', 'felis', 'typically', 'weighing', 'between', 'kg', 'lb', 'however', 'if', 'piped', 'redirected', 'unnecessary', 'with', 'named', 'safer', 'error', 'concern', 'wrong', 'default', 'redirection', 'symbol', 'instead', 'often', 'adjacent', 'on', 'keyboards', 'may', 'permanently', 'delete', 'you', 'needing', 'read', 'terms', 'legibility', 'commands', 'starting', 'connected', 'pipes', 'has', 'clear', 'left', 'right', 'flow', 'information', 'command', 'basic', 'learned', 'when', 'started', 'unix', 'linux', 'world', 'using', 'lines', 'received', 'from', 'stdin', 'new', 'symbols', 'type', 'without', 'any', 'arguments', 'receives', 'displays', 'stdout', 'leopard', 'was', 'released', 'october', 'successor', 'tiger', 'version', 'available', 'two', 'editions', 'according', 'apple', 'contains', 'over', 'enhancements', 'predecessor', 'mac', 'os', 'x', 'mid', 'some', 'computers', 'firmware', 'factory', 'installed', 'which', 'no', 'longer', 'allow', 'installation', 'since', 'moved', 'intel', 'processors', 'their', 'osx', 'community', 'developed', 'now', 'allows', 'later', 'releases', 'non', 'based', 'mountain', 'lion', 'july', 'purchase', 'download', 'through', 's', 'app', 'store', 'part', 'switch', 'releasing', 'versions', 'online', 'every', 'year', 'patch', 'three', 'most', 'recent', 'safari', 'running', 'yosemite', 'mavericks', 'release', 'marks', 'second', 'time', 'offered', 'an', 'incremental', 'upgrade', 'rather', 'than', 'entirely', 'installs', 'place', 'so', 'won', 't', 'need', 'create', 'separate', 'disk', 'run', 'off', 'external', 'drive', 'fifth', 'update', 'features', 'more', 'count']\n"
     ]
    }
   ],
   "source": [
    "import re\n",
    "B = []\n",
    "for sentence in Sentences:\n",
    "    words = re.split('[^a-z]', sentence)\n",
    "    for word in words:\n",
    "        if ((word in B) == False) and (word != ''):\n",
    "            B.append(word)\n",
    "print(B)\n",
    "length = len(B)\n",
    "number = len(Sentences)"
   ]
  },
  {
   "cell_type": "code",
   "execution_count": 5,
   "metadata": {
    "collapsed": false
   },
   "outputs": [
    {
     "name": "stdout",
     "output_type": "stream",
     "text": [
      "[[1 1 1 ..., 0 0 0]\n",
      " [0 0 1 ..., 0 0 0]\n",
      " [0 0 2 ..., 0 0 0]\n",
      " ..., \n",
      " [0 0 0 ..., 0 0 0]\n",
      " [1 0 1 ..., 0 0 0]\n",
      " [0 0 1 ..., 1 1 1]]\n"
     ]
    }
   ],
   "source": [
    "import numpy as np\n",
    "matrix = np.array([[0]*length]*number)\n",
    "\n",
    "for i in range(0, number):\n",
    "    S = re.split('[^a-z]', Sentences[i])\n",
    "    for j in range(0, length):\n",
    "        for word in S:\n",
    "            if B[j] == word:\n",
    "                matrix[i][j] += 1\n",
    "print(matrix)"
   ]
  },
  {
   "cell_type": "code",
   "execution_count": 9,
   "metadata": {
    "collapsed": false
   },
   "outputs": [
    {
     "name": "stdout",
     "output_type": "stream",
     "text": [
      "0.0 0\n",
      "0.952754440874 1\n",
      "0.864473814564 2\n",
      "0.895171516328 3\n",
      "0.77708871497 4\n",
      "0.940238569533 5\n",
      "0.732738758088 6\n",
      "0.925875068334 7\n",
      "0.884272487528 8\n",
      "0.905508881748 9\n",
      "0.832816536227 10\n",
      "0.880477139067 11\n",
      "0.839643254853 12\n",
      "0.87035925529 13\n",
      "0.87401184233 14\n",
      "0.944272178742 15\n",
      "0.840636185422 16\n",
      "0.956644501524 17\n",
      "0.944272178742 18\n",
      "0.888544357485 19\n",
      "0.842757274492 20\n",
      "0.825036446944 21\n"
     ]
    }
   ],
   "source": [
    "import scipy.spatial as sp\n",
    "for i in range(0, number):\n",
    "    print(sp.distance.cosine(matrix[0], matrix[i]), i)"
   ]
  },
  {
   "cell_type": "code",
   "execution_count": null,
   "metadata": {
    "collapsed": true
   },
   "outputs": [],
   "source": []
  }
 ],
 "metadata": {
  "kernelspec": {
   "display_name": "Python 3",
   "language": "python",
   "name": "python3"
  },
  "language_info": {
   "codemirror_mode": {
    "name": "ipython",
    "version": 3
   },
   "file_extension": ".py",
   "mimetype": "text/x-python",
   "name": "python",
   "nbconvert_exporter": "python",
   "pygments_lexer": "ipython3",
   "version": "3.6.0"
  }
 },
 "nbformat": 4,
 "nbformat_minor": 2
}
