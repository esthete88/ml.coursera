{
 "cells": [
  {
   "cell_type": "markdown",
   "metadata": {},
   "source": [
    "Шаг 0: подключаем нужные библиотеки:"
   ]
  },
  {
   "cell_type": "code",
   "execution_count": 1,
   "metadata": {
    "collapsed": true
   },
   "outputs": [],
   "source": [
    "import numpy as np\n",
    "import matplotlib.pyplot as plt\n",
    "import scipy.stats as sts\n",
    "from random import randint\n",
    "%matplotlib inline"
   ]
  },
  {
   "cell_type": "markdown",
   "metadata": {},
   "source": [
    "Шаг 1: в качестве непрерывного распределения выбираем $ BETA(alpha,beta)$-распределение со значениями параметров $alpha = 0.5$ и $beta = 0.5$."
   ]
  },
  {
   "cell_type": "markdown",
   "metadata": {},
   "source": [
    "Шаг 2: герерируем 1000 наблюдений случайной величины с заданным распределением:"
   ]
  },
  {
   "cell_type": "code",
   "execution_count": 2,
   "metadata": {
    "collapsed": true
   },
   "outputs": [],
   "source": [
    "beta_rv = sts.beta(0.5, 0.5)\n",
    "sample = beta_rv.rvs(1000)"
   ]
  },
  {
   "cell_type": "markdown",
   "metadata": {},
   "source": [
    "Шаг 3: рисуем гистограмму величины, полученной на Шаге 2 и её теоретическую плотность распределения:"
   ]
  },
  {
   "cell_type": "code",
   "execution_count": 3,
   "metadata": {
    "collapsed": false
   },
   "outputs": [
    {
     "data": {
      "text/plain": [
       "<matplotlib.text.Text at 0x8c9db70>"
      ]
     },
     "execution_count": 3,
     "metadata": {},
     "output_type": "execute_result"
    },
    {
     "data": {
      "image/png": "[encoded data removed]",
      "text/plain": [
       "<matplotlib.figure.Figure at 0x8c89710>"
      ]
     },
     "metadata": {},
     "output_type": "display_data"
    }
   ],
   "source": [
    "plt.hist(sample, bins=25, label='beta distributed random variables', normed=True)\n",
    "plt.legend()\n",
    "plt.ylabel('$f(x)$')\n",
    "plt.xlabel('$x$')\n",
    "\n",
    "x = np.linspace(0,1,100)\n",
    "pdf = beta_rv.pdf(x)\n",
    "plt.plot(x, pdf, label='theoretical beta distribution', alpha=1)\n",
    "plt.legend()\n",
    "plt.ylabel('$f(x)$')\n",
    "plt.xlabel('$x$')"
   ]
  },
  {
   "cell_type": "markdown",
   "metadata": {},
   "source": [
    "Шаг 4: Генерируем 1000 подвыборок объема 5 из случайной величины, полученной на Шаге 2, считаем по каждой подвыборке выборочное среднее, рисуем гистограмму, полученных выборочных средних:"
   ]
  },
  {
   "cell_type": "code",
   "execution_count": 4,
   "metadata": {
    "collapsed": false
   },
   "outputs": [
    {
     "data": {
      "text/plain": [
       "<matplotlib.text.Text at 0x93ed160>"
      ]
     },
     "execution_count": 4,
     "metadata": {},
     "output_type": "execute_result"
    },
    {
     "data": {
      "image/png": "[encoded data removed]",
      "text/plain": [
       "<matplotlib.figure.Figure at 0x8f14908>"
      ]
     },
     "metadata": {},
     "output_type": "display_data"
    }
   ],
   "source": [
    "#задаем количество наблюдений в подвыбоке N = 5\n",
    "N = 5\n",
    "\n",
    "#получаем массив из 1000 подвыборок, объема 5 наблюдений в кажом, из sample Шага2\n",
    "list_sub_sample = []\n",
    "for i in range(0, 1000):\n",
    "    tmp_sub_sample = []\n",
    "    for j in range(0, N):\n",
    "        tmp_sub_sample.append(sample[randint(0,999)])\n",
    "    list_sub_sample.append(tmp_sub_sample)\n",
    "sub_sample = np.array(list_sub_sample)\n",
    "\n",
    "#получаем массив из 1000 выборочных средних\n",
    "tmp_sample_mean = []\n",
    "for i in range(0,1000):\n",
    "    tmp_sample_mean.append(np.mean(sub_sample[i]))\n",
    "sub_sample_mean = np.array(tmp_sample_mean)\n",
    "\n",
    "#рисуем гистограмму выборочных средних\n",
    "plt.hist(sub_sample_mean, bins=20, normed=True)\n",
    "plt.ylabel('fraction of mean value')\n",
    "plt.xlabel('$x$')"
   ]
  },
  {
   "cell_type": "markdown",
   "metadata": {},
   "source": [
    "Шаг 5: Генерируем 1000 подвыборок объема 10 из случайной величины, полученной на Шаге 2, считаем по каждой подвыборке выборочное среднее, рисуем гистограмму, полученных выборочных средних:"
   ]
  },
  {
   "cell_type": "code",
   "execution_count": 5,
   "metadata": {
    "collapsed": false
   },
   "outputs": [
    {
     "data": {
      "text/plain": [
       "<matplotlib.text.Text at 0x8f149b0>"
      ]
     },
     "execution_count": 5,
     "metadata": {},
     "output_type": "execute_result"
    },
    {
     "data": {
      "image/png": "[encoded data removed]",
      "text/plain": [
       "<matplotlib.figure.Figure at 0x8c78d30>"
      ]
     },
     "metadata": {},
     "output_type": "display_data"
    }
   ],
   "source": [
    "#задаем количество наблюдений в подвыбоке N = 10\n",
    "N = 10\n",
    "\n",
    "#получаем массив из 1000 подвыборок, объема 10 наблюдений в кажом, из sample Шага2\n",
    "list_sub_sample = []\n",
    "for i in range(0, 1000):\n",
    "    tmp_sub_sample = []\n",
    "    for j in range(0, N):\n",
    "        tmp_sub_sample.append(sample[randint(0,999)])\n",
    "    list_sub_sample.append(tmp_sub_sample)\n",
    "sub_sample = np.array(list_sub_sample)\n",
    "\n",
    "#получаем массив из 1000 выборочных средних\n",
    "tmp_sample_mean = []\n",
    "for i in range(0,1000):\n",
    "    tmp_sample_mean.append(np.mean(sub_sample[i]))\n",
    "sub_sample_mean = np.array(tmp_sample_mean)\n",
    "\n",
    "#рисуем гистограмму выборочных средних\n",
    "plt.hist(sub_sample_mean, bins=20, normed=True)\n",
    "plt.ylabel('fraction of mean value')\n",
    "plt.xlabel('$x$')"
   ]
  },
  {
   "cell_type": "markdown",
   "metadata": {},
   "source": [
    "Шаг 6: Генерируем 1000 подвыборок объема 50 из случайной величины, полученной на Шаге 2, считаем по каждой подвыборке выборочное среднее, рисуем гистограмму, полученных выборочных средних:"
   ]
  },
  {
   "cell_type": "code",
   "execution_count": 6,
   "metadata": {
    "collapsed": false
   },
   "outputs": [
    {
     "data": {
      "text/plain": [
       "<matplotlib.text.Text at 0x9810588>"
      ]
     },
     "execution_count": 6,
     "metadata": {},
     "output_type": "execute_result"
    },
    {
     "data": {
      "image/png": "[encoded data removed]",
      "text/plain": [
       "<matplotlib.figure.Figure at 0x8c89160>"
      ]
     },
     "metadata": {},
     "output_type": "display_data"
    }
   ],
   "source": [
    "#задаем количество наблюдений в подвыбоке N = 50\n",
    "N = 50\n",
    "\n",
    "#получаем массив из 1000 подвыборок, объема 50 наблюдений в кажом, из sample Шага2\n",
    "list_sub_sample = []\n",
    "for i in range(0, 1000):\n",
    "    tmp_sub_sample = []\n",
    "    for j in range(0, N):\n",
    "        tmp_sub_sample.append(sample[randint(0,999)])\n",
    "    list_sub_sample.append(tmp_sub_sample)\n",
    "sub_sample = np.array(list_sub_sample)\n",
    "\n",
    "#получаем массив из 1000 выборочных средних\n",
    "tmp_sample_mean = []\n",
    "for i in range(0,1000):\n",
    "    tmp_sample_mean.append(np.mean(sub_sample[i]))\n",
    "sub_sample_mean = np.array(tmp_sample_mean)\n",
    "\n",
    "#рисуем гистограмму выборочных средних\n",
    "plt.hist(sub_sample_mean, bins=20, normed=True)\n",
    "plt.ylabel('fraction of mean value')\n",
    "plt.xlabel('$x$')"
   ]
  },
  {
   "cell_type": "markdown",
   "metadata": {},
   "source": [
    "Шаг 7: теоретические значения мат.ожидания и дисперсии $BETA-$распределенной случайной величины:\n",
    "$$EX = alpha / (alpha + beta)$$\n",
    "$$DX = alpha*beta / (alpha + beta) * (alpha + beta) * (alpha + beta + 1)$$ "
   ]
  },
  {
   "cell_type": "markdown",
   "metadata": {},
   "source": [
    "Шаг 8: вычислим мат.ожидание EX и дисперсию DX для alpha = 0.5 и beta = 0.5"
   ]
  },
  {
   "cell_type": "code",
   "execution_count": 7,
   "metadata": {
    "collapsed": false,
    "scrolled": true
   },
   "outputs": [
    {
     "name": "stdout",
     "output_type": "stream",
     "text": [
      "EX = 0.5\n",
      "DX = 0.125\n"
     ]
    }
   ],
   "source": [
    "EX = 0.5/(0.5+0.5)\n",
    "DX = (0.5*0.5)/((0.5+0.5)*(0.5+0.5)*(0.5+0.5+1))\n",
    "print 'EX =',EX\n",
    "print 'DX =',DX"
   ]
  },
  {
   "cell_type": "markdown",
   "metadata": {},
   "source": [
    "Шаг 9: для Шага 4 рисуем на одном графике гистограмму выборочного среднего и плотность соответствующего нормального распределения. Для отрисовки графика плотность нормального распределения нужно вычислить его параметры - средние значение и дисперсию."
   ]
  },
  {
   "cell_type": "code",
   "execution_count": 8,
   "metadata": {
    "collapsed": false
   },
   "outputs": [
    {
     "data": {
      "text/plain": [
       "[<matplotlib.lines.Line2D at 0xa1bcf60>]"
      ]
     },
     "execution_count": 8,
     "metadata": {},
     "output_type": "execute_result"
    },
    {
     "data": {
      "image/png": "[encoded data removed]",
      "text/plain": [
       "<matplotlib.figure.Figure at 0x8d18ba8>"
      ]
     },
     "metadata": {},
     "output_type": "display_data"
    }
   ],
   "source": [
    "#нужно для отрисовки графика плотность нормального распределения\n",
    "N = 5\n",
    "norm_rv = sts.norm(EX, (DX/N)**0.5)\n",
    "sample_rv = norm_rv.rvs(1000)\n",
    "\n",
    "#скопированно из Шага 4\n",
    "#получаем массив из 1000 подвыборок, объема 5 наблюдений в кажом, из sample Шага2\n",
    "list_sub_sample = []\n",
    "for i in range(0, 1000):\n",
    "    tmp_sub_sample = []\n",
    "    for j in range(0, N):\n",
    "        tmp_sub_sample.append(sample[randint(0,999)])\n",
    "    list_sub_sample.append(tmp_sub_sample)\n",
    "sub_sample = np.array(list_sub_sample)\n",
    "\n",
    "#получаем массив из 1000 выборочных средних\n",
    "tmp_sample_mean = []\n",
    "for i in range(0,1000):\n",
    "    tmp_sample_mean.append(np.mean(sub_sample[i]))\n",
    "sub_sample_mean = np.array(tmp_sample_mean)\n",
    "\n",
    "#рисуем гистограмму выборочных средних\n",
    "plt.hist(sub_sample_mean, bins=20, normed=True)\n",
    "plt.ylabel('fraction of mean value')\n",
    "plt.xlabel('$x$')\n",
    "\n",
    "#рисуем плотность нормального распределения\n",
    "x = np.linspace(0,1,100)\n",
    "pdf = norm_rv.pdf(x)\n",
    "plt.plot(x, pdf, label='theoretical pdf', alpha=1)"
   ]
  },
  {
   "cell_type": "markdown",
   "metadata": {},
   "source": [
    "Шаг 10: для Шага 5 рисуем на одном графике гистограмму выборочного среднего и плотность соответствующего нормального распределения. Для отрисовки графика плотность нормального распределения нужно вычислить его параметры - средние значение и дисперсию."
   ]
  },
  {
   "cell_type": "code",
   "execution_count": 9,
   "metadata": {
    "collapsed": false
   },
   "outputs": [
    {
     "data": {
      "text/plain": [
       "[<matplotlib.lines.Line2D at 0xa1d4e80>]"
      ]
     },
     "execution_count": 9,
     "metadata": {},
     "output_type": "execute_result"
    },
    {
     "data": {
      "image/png": "[encoded data removed]",
      "text/plain": [
       "<matplotlib.figure.Figure at 0xa1bcfd0>"
      ]
     },
     "metadata": {},
     "output_type": "display_data"
    }
   ],
   "source": [
    "#нужно для отрисовки графика плотность нормального распределения\n",
    "N = 10\n",
    "norm_rv = sts.norm(EX, (DX/N)**0.5)\n",
    "sample_rv = norm_rv.rvs(1000)\n",
    "\n",
    "#скопированно из Шага 5\n",
    "#получаем массив из 1000 подвыборок, объема 10 наблюдений в кажом, из sample Шага2\n",
    "list_sub_sample = []\n",
    "for i in range(0, 1000):\n",
    "    tmp_sub_sample = []\n",
    "    for j in range(0, N):\n",
    "        tmp_sub_sample.append(sample[randint(0,999)])\n",
    "    list_sub_sample.append(tmp_sub_sample)\n",
    "sub_sample = np.array(list_sub_sample)\n",
    "\n",
    "#получаем массив из 1000 выборочных средних\n",
    "tmp_sample_mean = []\n",
    "for i in range(0,1000):\n",
    "    tmp_sample_mean.append(np.mean(sub_sample[i]))\n",
    "sub_sample_mean = np.array(tmp_sample_mean)\n",
    "\n",
    "#рисуем гистограмму выборочных средних\n",
    "plt.hist(sub_sample_mean, bins=20, normed=True)\n",
    "plt.ylabel('fraction of mean value')\n",
    "plt.xlabel('$x$')\n",
    "\n",
    "#рисуем плотность нормального распределения\n",
    "x = np.linspace(0.1,0.9,100)\n",
    "pdf = norm_rv.pdf(x)\n",
    "plt.plot(x, pdf, label='theoretical pdf', alpha=1)"
   ]
  },
  {
   "cell_type": "markdown",
   "metadata": {},
   "source": [
    "Шаг 11: для Шага 6 рисуем на одном графике гистограмму выборочного среднего и плотность соответствующего нормального распределения. Для отрисовки графика плотность нормального распределения нужно вычислить его параметры - средние значение и дисперсию."
   ]
  },
  {
   "cell_type": "code",
   "execution_count": 10,
   "metadata": {
    "collapsed": false
   },
   "outputs": [
    {
     "data": {
      "text/plain": [
       "[<matplotlib.lines.Line2D at 0x8e199e8>]"
      ]
     },
     "execution_count": 10,
     "metadata": {},
     "output_type": "execute_result"
    },
    {
     "data": {
      "image/png": "[encoded data removed]",
      "text/plain": [
       "<matplotlib.figure.Figure at 0x9aafc88>"
      ]
     },
     "metadata": {},
     "output_type": "display_data"
    }
   ],
   "source": [
    "#нужно для отрисовки графика плотность нормального распределения\n",
    "N = 50\n",
    "norm_rv = sts.norm(EX, (DX/N)**0.5)\n",
    "sample_rv = norm_rv.rvs(1000)\n",
    "\n",
    "#скопированно из Шага 6\n",
    "#получаем массив из 1000 подвыборок, объема 50 наблюдений в кажом, из sample Шага2\n",
    "list_sub_sample = []\n",
    "for i in range(0, 1000):\n",
    "    tmp_sub_sample = []\n",
    "    for j in range(0, N):\n",
    "        tmp_sub_sample.append(sample[randint(0,999)])\n",
    "    list_sub_sample.append(tmp_sub_sample)\n",
    "sub_sample = np.array(list_sub_sample)\n",
    "\n",
    "#получаем массив из 1000 выборочных средних\n",
    "tmp_sample_mean = []\n",
    "for i in range(0,1000):\n",
    "    tmp_sample_mean.append(np.mean(sub_sample[i]))\n",
    "sub_sample_mean = np.array(tmp_sample_mean)\n",
    "\n",
    "#рисуем гистограмму выборочных средних\n",
    "plt.hist(sub_sample_mean, bins=20, normed=True)\n",
    "plt.ylabel('fraction of mean value')\n",
    "plt.xlabel('$x$')\n",
    "\n",
    "#рисуем плотность нормального распределения\n",
    "x = np.linspace(0.3,0.7,100)\n",
    "pdf = norm_rv.pdf(x)\n",
    "plt.plot(x, pdf, label='theoretical pdf', alpha=1)"
   ]
  },
  {
   "cell_type": "markdown",
   "metadata": {},
   "source": [
    "ВЫВОД:точность аппроксимации эмпирического распределения выборочных средних точнее приближается к нормальному распределению с ростом объема выборки n."
   ]
  }
 ],
 "metadata": {
  "kernelspec": {
   "display_name": "Python 3",
   "language": "python",
   "name": "python3"
  },
  "language_info": {
   "codemirror_mode": {
    "name": "ipython",
    "version": 3
   },
   "file_extension": ".py",
   "mimetype": "text/x-python",
   "name": "python",
   "nbconvert_exporter": "python",
   "pygments_lexer": "ipython3",
   "version": "3.6.0"
  }
 },
 "nbformat": 4,
 "nbformat_minor": 2
}
